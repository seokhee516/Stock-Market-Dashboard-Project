{
 "cells": [
  {
   "cell_type": "code",
   "execution_count": 12,
   "metadata": {},
   "outputs": [],
   "source": [
    "import FinanceDataReader as fdr\n",
    "import pandas as pd"
   ]
  },
  {
   "cell_type": "code",
   "execution_count": 13,
   "metadata": {},
   "outputs": [
    {
     "data": {
      "text/html": [
       "<div>\n",
       "<style scoped>\n",
       "    .dataframe tbody tr th:only-of-type {\n",
       "        vertical-align: middle;\n",
       "    }\n",
       "\n",
       "    .dataframe tbody tr th {\n",
       "        vertical-align: top;\n",
       "    }\n",
       "\n",
       "    .dataframe thead th {\n",
       "        text-align: right;\n",
       "    }\n",
       "</style>\n",
       "<table border=\"1\" class=\"dataframe\">\n",
       "  <thead>\n",
       "    <tr style=\"text-align: right;\">\n",
       "      <th></th>\n",
       "      <th>Open</th>\n",
       "      <th>High</th>\n",
       "      <th>Low</th>\n",
       "      <th>Close</th>\n",
       "      <th>Volume</th>\n",
       "      <th>Change</th>\n",
       "    </tr>\n",
       "    <tr>\n",
       "      <th>Date</th>\n",
       "      <th></th>\n",
       "      <th></th>\n",
       "      <th></th>\n",
       "      <th></th>\n",
       "      <th></th>\n",
       "      <th></th>\n",
       "    </tr>\n",
       "  </thead>\n",
       "  <tbody>\n",
       "    <tr>\n",
       "      <th>1998-02-14</th>\n",
       "      <td>1470</td>\n",
       "      <td>1477</td>\n",
       "      <td>1377</td>\n",
       "      <td>1387</td>\n",
       "      <td>226076</td>\n",
       "      <td>NaN</td>\n",
       "    </tr>\n",
       "    <tr>\n",
       "      <th>1998-02-16</th>\n",
       "      <td>1396</td>\n",
       "      <td>1416</td>\n",
       "      <td>1352</td>\n",
       "      <td>1398</td>\n",
       "      <td>390959</td>\n",
       "      <td>0.007931</td>\n",
       "    </tr>\n",
       "    <tr>\n",
       "      <th>1998-02-17</th>\n",
       "      <td>1403</td>\n",
       "      <td>1450</td>\n",
       "      <td>1390</td>\n",
       "      <td>1434</td>\n",
       "      <td>263986</td>\n",
       "      <td>0.025751</td>\n",
       "    </tr>\n",
       "    <tr>\n",
       "      <th>1998-02-18</th>\n",
       "      <td>1452</td>\n",
       "      <td>1523</td>\n",
       "      <td>1443</td>\n",
       "      <td>1489</td>\n",
       "      <td>406600</td>\n",
       "      <td>0.038354</td>\n",
       "    </tr>\n",
       "    <tr>\n",
       "      <th>1998-02-19</th>\n",
       "      <td>1497</td>\n",
       "      <td>1597</td>\n",
       "      <td>1488</td>\n",
       "      <td>1552</td>\n",
       "      <td>702640</td>\n",
       "      <td>0.042310</td>\n",
       "    </tr>\n",
       "    <tr>\n",
       "      <th>...</th>\n",
       "      <td>...</td>\n",
       "      <td>...</td>\n",
       "      <td>...</td>\n",
       "      <td>...</td>\n",
       "      <td>...</td>\n",
       "      <td>...</td>\n",
       "    </tr>\n",
       "    <tr>\n",
       "      <th>2022-03-28</th>\n",
       "      <td>69500</td>\n",
       "      <td>69900</td>\n",
       "      <td>69200</td>\n",
       "      <td>69700</td>\n",
       "      <td>12619289</td>\n",
       "      <td>-0.001433</td>\n",
       "    </tr>\n",
       "    <tr>\n",
       "      <th>2022-03-29</th>\n",
       "      <td>70000</td>\n",
       "      <td>70300</td>\n",
       "      <td>69800</td>\n",
       "      <td>70200</td>\n",
       "      <td>13686208</td>\n",
       "      <td>0.007174</td>\n",
       "    </tr>\n",
       "    <tr>\n",
       "      <th>2022-03-30</th>\n",
       "      <td>70300</td>\n",
       "      <td>70500</td>\n",
       "      <td>69800</td>\n",
       "      <td>69900</td>\n",
       "      <td>12670187</td>\n",
       "      <td>-0.004274</td>\n",
       "    </tr>\n",
       "    <tr>\n",
       "      <th>2022-03-31</th>\n",
       "      <td>69900</td>\n",
       "      <td>70200</td>\n",
       "      <td>69600</td>\n",
       "      <td>69600</td>\n",
       "      <td>12510366</td>\n",
       "      <td>-0.004292</td>\n",
       "    </tr>\n",
       "    <tr>\n",
       "      <th>2022-04-01</th>\n",
       "      <td>69500</td>\n",
       "      <td>69500</td>\n",
       "      <td>69000</td>\n",
       "      <td>69100</td>\n",
       "      <td>15852053</td>\n",
       "      <td>-0.007184</td>\n",
       "    </tr>\n",
       "  </tbody>\n",
       "</table>\n",
       "<p>6000 rows × 6 columns</p>\n",
       "</div>"
      ],
      "text/plain": [
       "             Open   High    Low  Close    Volume    Change\n",
       "Date                                                      \n",
       "1998-02-14   1470   1477   1377   1387    226076       NaN\n",
       "1998-02-16   1396   1416   1352   1398    390959  0.007931\n",
       "1998-02-17   1403   1450   1390   1434    263986  0.025751\n",
       "1998-02-18   1452   1523   1443   1489    406600  0.038354\n",
       "1998-02-19   1497   1597   1488   1552    702640  0.042310\n",
       "...           ...    ...    ...    ...       ...       ...\n",
       "2022-03-28  69500  69900  69200  69700  12619289 -0.001433\n",
       "2022-03-29  70000  70300  69800  70200  13686208  0.007174\n",
       "2022-03-30  70300  70500  69800  69900  12670187 -0.004274\n",
       "2022-03-31  69900  70200  69600  69600  12510366 -0.004292\n",
       "2022-04-01  69500  69500  69000  69100  15852053 -0.007184\n",
       "\n",
       "[6000 rows x 6 columns]"
      ]
     },
     "execution_count": 13,
     "metadata": {},
     "output_type": "execute_result"
    }
   ],
   "source": [
    "# 삼성전자(005930) 전체 (1996-11-05 ~ 현재)\n",
    "df = fdr.DataReader('005930')\n",
    "df"
   ]
  },
  {
   "cell_type": "code",
   "execution_count": 14,
   "metadata": {},
   "outputs": [
    {
     "data": {
      "text/html": [
       "<div>\n",
       "<style scoped>\n",
       "    .dataframe tbody tr th:only-of-type {\n",
       "        vertical-align: middle;\n",
       "    }\n",
       "\n",
       "    .dataframe tbody tr th {\n",
       "        vertical-align: top;\n",
       "    }\n",
       "\n",
       "    .dataframe thead th {\n",
       "        text-align: right;\n",
       "    }\n",
       "</style>\n",
       "<table border=\"1\" class=\"dataframe\">\n",
       "  <thead>\n",
       "    <tr style=\"text-align: right;\">\n",
       "      <th></th>\n",
       "      <th>Symbol</th>\n",
       "      <th>Market</th>\n",
       "      <th>Name</th>\n",
       "      <th>Sector</th>\n",
       "      <th>Industry</th>\n",
       "      <th>ListingDate</th>\n",
       "      <th>SettleMonth</th>\n",
       "      <th>Representative</th>\n",
       "      <th>HomePage</th>\n",
       "      <th>Region</th>\n",
       "    </tr>\n",
       "  </thead>\n",
       "  <tbody>\n",
       "    <tr>\n",
       "      <th>1</th>\n",
       "      <td>095570</td>\n",
       "      <td>KOSPI</td>\n",
       "      <td>AJ네트웍스</td>\n",
       "      <td>산업용 기계 및 장비 임대업</td>\n",
       "      <td>렌탈(파렛트, OA장비, 건설장비)</td>\n",
       "      <td>2015-08-21</td>\n",
       "      <td>12월</td>\n",
       "      <td>박대현, 손삼달</td>\n",
       "      <td>http://www.ajnet.co.kr</td>\n",
       "      <td>서울특별시</td>\n",
       "    </tr>\n",
       "    <tr>\n",
       "      <th>2</th>\n",
       "      <td>006840</td>\n",
       "      <td>KOSPI</td>\n",
       "      <td>AK홀딩스</td>\n",
       "      <td>기타 금융업</td>\n",
       "      <td>지주사업</td>\n",
       "      <td>1999-08-11</td>\n",
       "      <td>12월</td>\n",
       "      <td>채형석, 이석주(각자 대표이사)</td>\n",
       "      <td>http://www.aekyunggroup.co.kr</td>\n",
       "      <td>서울특별시</td>\n",
       "    </tr>\n",
       "    <tr>\n",
       "      <th>6</th>\n",
       "      <td>152100</td>\n",
       "      <td>KOSPI</td>\n",
       "      <td>ARIRANG 200</td>\n",
       "      <td>NaN</td>\n",
       "      <td>NaN</td>\n",
       "      <td>NaT</td>\n",
       "      <td>NaN</td>\n",
       "      <td>NaN</td>\n",
       "      <td>NaN</td>\n",
       "      <td>NaN</td>\n",
       "    </tr>\n",
       "    <tr>\n",
       "      <th>7</th>\n",
       "      <td>295820</td>\n",
       "      <td>KOSPI</td>\n",
       "      <td>ARIRANG 200동일가중</td>\n",
       "      <td>NaN</td>\n",
       "      <td>NaN</td>\n",
       "      <td>NaT</td>\n",
       "      <td>NaN</td>\n",
       "      <td>NaN</td>\n",
       "      <td>NaN</td>\n",
       "      <td>NaN</td>\n",
       "    </tr>\n",
       "    <tr>\n",
       "      <th>8</th>\n",
       "      <td>253150</td>\n",
       "      <td>KOSPI</td>\n",
       "      <td>ARIRANG 200선물레버리지</td>\n",
       "      <td>NaN</td>\n",
       "      <td>NaN</td>\n",
       "      <td>NaT</td>\n",
       "      <td>NaN</td>\n",
       "      <td>NaN</td>\n",
       "      <td>NaN</td>\n",
       "      <td>NaN</td>\n",
       "    </tr>\n",
       "  </tbody>\n",
       "</table>\n",
       "</div>"
      ],
      "text/plain": [
       "   Symbol Market               Name           Sector             Industry  \\\n",
       "1  095570  KOSPI             AJ네트웍스  산업용 기계 및 장비 임대업  렌탈(파렛트, OA장비, 건설장비)   \n",
       "2  006840  KOSPI              AK홀딩스           기타 금융업                 지주사업   \n",
       "6  152100  KOSPI        ARIRANG 200              NaN                  NaN   \n",
       "7  295820  KOSPI    ARIRANG 200동일가중              NaN                  NaN   \n",
       "8  253150  KOSPI  ARIRANG 200선물레버리지              NaN                  NaN   \n",
       "\n",
       "  ListingDate SettleMonth     Representative                       HomePage  \\\n",
       "1  2015-08-21         12월           박대현, 손삼달         http://www.ajnet.co.kr   \n",
       "2  1999-08-11         12월  채형석, 이석주(각자 대표이사)  http://www.aekyunggroup.co.kr   \n",
       "6         NaT         NaN                NaN                            NaN   \n",
       "7         NaT         NaN                NaN                            NaN   \n",
       "8         NaT         NaN                NaN                            NaN   \n",
       "\n",
       "  Region  \n",
       "1  서울특별시  \n",
       "2  서울특별시  \n",
       "6    NaN  \n",
       "7    NaN  \n",
       "8    NaN  "
      ]
     },
     "execution_count": 14,
     "metadata": {},
     "output_type": "execute_result"
    }
   ],
   "source": [
    "stocks = fdr.StockListing('KOSPI') # 코스피\n",
    "stocks.head()"
   ]
  },
  {
   "cell_type": "code",
   "execution_count": 15,
   "metadata": {},
   "outputs": [
    {
     "data": {
      "text/plain": [
       "Index(['Symbol', 'Market', 'Name', 'Sector', 'Industry', 'ListingDate',\n",
       "       'SettleMonth', 'Representative', 'HomePage', 'Region'],\n",
       "      dtype='object')"
      ]
     },
     "execution_count": 15,
     "metadata": {},
     "output_type": "execute_result"
    }
   ],
   "source": [
    "# '회사명':'Name', '종목코드':'Symbol', '업종':'Sector', '주요제품':'Industry', \n",
    "# '상장일':'ListingDate', '결산월':'SettleMonth',  '대표자명':'Representative', \n",
    "# '홈페이지':'HomePage', '지역':'Region'\n",
    "stocks.columns"
   ]
  },
  {
   "cell_type": "code",
   "execution_count": 16,
   "metadata": {},
   "outputs": [
    {
     "data": {
      "text/plain": [
       "(6231, 10)"
      ]
     },
     "execution_count": 16,
     "metadata": {},
     "output_type": "execute_result"
    }
   ],
   "source": [
    "stocks.shape"
   ]
  },
  {
   "cell_type": "code",
   "execution_count": 19,
   "metadata": {},
   "outputs": [
    {
     "data": {
      "text/plain": [
       "Symbol                            095570\n",
       "Market                             KOSPI\n",
       "Name                              AJ네트웍스\n",
       "Sector                   산업용 기계 및 장비 임대업\n",
       "Industry             렌탈(파렛트, OA장비, 건설장비)\n",
       "ListingDate          2015-08-21 00:00:00\n",
       "SettleMonth                          12월\n",
       "Representative                  박대현, 손삼달\n",
       "HomePage          http://www.ajnet.co.kr\n",
       "Region                             서울특별시\n",
       "Name: 1, dtype: object"
      ]
     },
     "execution_count": 19,
     "metadata": {},
     "output_type": "execute_result"
    }
   ],
   "source": [
    "stocks.iloc[0]"
   ]
  },
  {
   "cell_type": "code",
   "execution_count": 23,
   "metadata": {},
   "outputs": [
    {
     "data": {
      "text/plain": [
       "'서울특별시'"
      ]
     },
     "execution_count": 23,
     "metadata": {},
     "output_type": "execute_result"
    }
   ],
   "source": [
    "stocks.iloc[0][9]"
   ]
  },
  {
   "cell_type": "code",
   "execution_count": 28,
   "metadata": {},
   "outputs": [
    {
     "name": "stdout",
     "output_type": "stream",
     "text": [
      "1 095570 KOSPI AJ네트웍스 산업용 기계 및 장비 임대업 렌탈(파렛트, OA장비, 건설장비) 2015-08-21 00:00:00 12월 박대현, 손삼달 http://www.ajnet.co.kr 서울특별시\n",
      "2 006840 KOSPI AK홀딩스 기타 금융업 지주사업 1999-08-11 00:00:00 12월 채형석, 이석주(각자 대표이사) http://www.aekyunggroup.co.kr 서울특별시\n",
      "3 152100 KOSPI ARIRANG 200 nan nan NaT nan nan nan nan\n",
      "4 295820 KOSPI ARIRANG 200동일가중 nan nan NaT nan nan nan nan\n",
      "5 253150 KOSPI ARIRANG 200선물레버리지 nan nan NaT nan nan nan nan\n"
     ]
    }
   ],
   "source": [
    "id_ = 1\n",
    "for i in range(5):\n",
    "    print(id_, stocks.iloc[i][0],stocks.iloc[i][1],stocks.iloc[i][2],stocks.iloc[i][3],stocks.iloc[i][4],\n",
    "    stocks.iloc[i][5],stocks.iloc[i][6],stocks.iloc[i][7],stocks.iloc[i][8],stocks.iloc[i][9])\n",
    "    id_ += 1"
   ]
  },
  {
   "cell_type": "code",
   "execution_count": 34,
   "metadata": {},
   "outputs": [],
   "source": [
    "import sqlite3\n",
    "\n",
    "conn = sqlite3.connect('stock.db')\n",
    "cur = conn.cursor()"
   ]
  },
  {
   "cell_type": "code",
   "execution_count": 36,
   "metadata": {},
   "outputs": [
    {
     "ename": "InterfaceError",
     "evalue": "Error binding parameter 6 - probably unsupported type.",
     "output_type": "error",
     "traceback": [
      "\u001b[1;31m---------------------------------------------------------------------------\u001b[0m",
      "\u001b[1;31mInterfaceError\u001b[0m                            Traceback (most recent call last)",
      "\u001b[1;32mc:\\Users\\seokh\\Stock-Market-Dashboard-Project\\test.ipynb Cell 10'\u001b[0m in \u001b[0;36m<cell line: 2>\u001b[1;34m()\u001b[0m\n\u001b[0;32m      <a href='vscode-notebook-cell:/c%3A/Users/seokh/Stock-Market-Dashboard-Project/test.ipynb#ch0000008?line=0'>1</a>\u001b[0m i_d \u001b[39m=\u001b[39m \u001b[39m1\u001b[39m\n\u001b[0;32m      <a href='vscode-notebook-cell:/c%3A/Users/seokh/Stock-Market-Dashboard-Project/test.ipynb#ch0000008?line=1'>2</a>\u001b[0m \u001b[39mfor\u001b[39;00m i \u001b[39min\u001b[39;00m \u001b[39mrange\u001b[39m(\u001b[39mlen\u001b[39m(stocks)):\n\u001b[1;32m----> <a href='vscode-notebook-cell:/c%3A/Users/seokh/Stock-Market-Dashboard-Project/test.ipynb#ch0000008?line=2'>3</a>\u001b[0m     cur\u001b[39m.\u001b[39;49mexecute(\u001b[39m\"\"\"\u001b[39;49m\n\u001b[0;32m      <a href='vscode-notebook-cell:/c%3A/Users/seokh/Stock-Market-Dashboard-Project/test.ipynb#ch0000008?line=3'>4</a>\u001b[0m \u001b[39m                    INSERT INTO kospi(\u001b[39;49m\u001b[39m'\u001b[39;49m\u001b[39mId\u001b[39;49m\u001b[39m'\u001b[39;49m\u001b[39m, \u001b[39;49m\u001b[39m'\u001b[39;49m\u001b[39mSymbol\u001b[39;49m\u001b[39m'\u001b[39;49m\u001b[39m, \u001b[39;49m\u001b[39m'\u001b[39;49m\u001b[39mMarket\u001b[39;49m\u001b[39m'\u001b[39;49m\u001b[39m, \u001b[39;49m\u001b[39m'\u001b[39;49m\u001b[39mName\u001b[39;49m\u001b[39m'\u001b[39;49m\u001b[39m, \u001b[39;49m\u001b[39m'\u001b[39;49m\u001b[39mSector\u001b[39;49m\u001b[39m'\u001b[39;49m\u001b[39m, \u001b[39;49m\u001b[39m'\u001b[39;49m\u001b[39mIndustry\u001b[39;49m\u001b[39m'\u001b[39;49m\u001b[39m, \u001b[39;49m\u001b[39m'\u001b[39;49m\u001b[39mListingDate\u001b[39;49m\u001b[39m'\u001b[39;49m\u001b[39m,\u001b[39;49m\u001b[39m'\u001b[39;49m\u001b[39mSettleMonth\u001b[39;49m\u001b[39m'\u001b[39;49m\u001b[39m, \u001b[39;49m\u001b[39m'\u001b[39;49m\u001b[39mRepresentative\u001b[39;49m\u001b[39m'\u001b[39;49m\u001b[39m, \u001b[39;49m\u001b[39m'\u001b[39;49m\u001b[39mHomePage\u001b[39;49m\u001b[39m'\u001b[39;49m\u001b[39m, \u001b[39;49m\u001b[39m'\u001b[39;49m\u001b[39mRegion\u001b[39;49m\u001b[39m'\u001b[39;49m\u001b[39m)\u001b[39;49m\n\u001b[0;32m      <a href='vscode-notebook-cell:/c%3A/Users/seokh/Stock-Market-Dashboard-Project/test.ipynb#ch0000008?line=4'>5</a>\u001b[0m \u001b[39m                    VALUES (?,?,?,?,?,?,?,?,?,?,?);\u001b[39;49m\n\u001b[0;32m      <a href='vscode-notebook-cell:/c%3A/Users/seokh/Stock-Market-Dashboard-Project/test.ipynb#ch0000008?line=5'>6</a>\u001b[0m \u001b[39m                    \u001b[39;49m\u001b[39m\"\"\"\u001b[39;49m, (i_d, stocks\u001b[39m.\u001b[39;49miloc[i][\u001b[39m0\u001b[39;49m],stocks\u001b[39m.\u001b[39;49miloc[i][\u001b[39m1\u001b[39;49m],stocks\u001b[39m.\u001b[39;49miloc[i][\u001b[39m2\u001b[39;49m],stocks\u001b[39m.\u001b[39;49miloc[i][\u001b[39m3\u001b[39;49m],stocks\u001b[39m.\u001b[39;49miloc[i][\u001b[39m4\u001b[39;49m],stocks\u001b[39m.\u001b[39;49miloc[i][\u001b[39m5\u001b[39;49m],stocks\u001b[39m.\u001b[39;49miloc[i][\u001b[39m6\u001b[39;49m],stocks\u001b[39m.\u001b[39;49miloc[i][\u001b[39m7\u001b[39;49m],stocks\u001b[39m.\u001b[39;49miloc[i][\u001b[39m8\u001b[39;49m],stocks\u001b[39m.\u001b[39;49miloc[i][\u001b[39m9\u001b[39;49m]))\n\u001b[0;32m      <a href='vscode-notebook-cell:/c%3A/Users/seokh/Stock-Market-Dashboard-Project/test.ipynb#ch0000008?line=6'>7</a>\u001b[0m     i_d \u001b[39m+\u001b[39m\u001b[39m=\u001b[39m\u001b[39m1\u001b[39m\n",
      "\u001b[1;31mInterfaceError\u001b[0m: Error binding parameter 6 - probably unsupported type."
     ]
    }
   ],
   "source": [
    "i_d = 1\n",
    "for i in range(len(stocks)):\n",
    "    cur.execute(\"\"\"\n",
    "                    INSERT INTO kospi('Id', 'Symbol', 'Market', 'Name', 'Sector', 'Industry', 'ListingDate','SettleMonth', 'Representative', 'HomePage', 'Region')\n",
    "                    VALUES (%s,%s,%s,%s,%s,%s,%s,%s,%s,%s,%s);\n",
    "                    \"\"\", (i_d, stocks.iloc[i][0],stocks.iloc[i][1],stocks.iloc[i][2],stocks.iloc[i][3],stocks.iloc[i][4],stocks.iloc[i][5],stocks.iloc[i][6],stocks.iloc[i][7],stocks.iloc[i][8],stocks.iloc[i][9]))\n",
    "    i_d +=1"
   ]
  }
 ],
 "metadata": {
  "interpreter": {
   "hash": "16e5d04b0614cb9a3c6b7f604d6bfb54a7fe70761ef7ff0e0b74dbe7a70ed14a"
  },
  "kernelspec": {
   "display_name": "Python 3.8.13 ('stock')",
   "language": "python",
   "name": "python3"
  },
  "language_info": {
   "codemirror_mode": {
    "name": "ipython",
    "version": 3
   },
   "file_extension": ".py",
   "mimetype": "text/x-python",
   "name": "python",
   "nbconvert_exporter": "python",
   "pygments_lexer": "ipython3",
   "version": "3.8.13"
  },
  "orig_nbformat": 4
 },
 "nbformat": 4,
 "nbformat_minor": 2
}
